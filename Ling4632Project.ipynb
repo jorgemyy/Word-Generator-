{
 "cells": [
  {
   "cell_type": "markdown",
   "id": "1dad946b",
   "metadata": {},
   "source": [
    "## Analysis of a Word Generator Using an SVM Classifier\n",
    "### Jeremy Miesch\n",
    "\n",
    "This project has two goals:\n",
    "\n",
    "1. Create a word generator that uses bigram proportions in a corpus to generate fake words that resemble words of an input language.\n",
    "\n",
    "2. Classify these words using an SVM Classifier and evaluate the FScore.\n",
    "\n",
    "The motivation for the project is to have a tool to generate many fake words that are consistent with many differenct languages. More specifically, I am a Dungeon Master for the tabletop game Dungeons and Dragons, and I can use this to generate place and people names. If, say, I think a tribe of goblins will speak a language somewhat similar to French, I can use this generator to create fake French-sounding words."
   ]
  },
  {
   "cell_type": "markdown",
   "id": "d5f0337b",
   "metadata": {},
   "source": [
    "## Data\n",
    "\n",
    "- eng.txt: english corpus extracted from project Gutenberg, War and Peace\n",
    "https://www.gutenberg.org/ebooks/2600 \n",
    "\n",
    "- pol.txt: polish corpus extracted from scrabble words dataset on Github: https://raw.githubusercontent.com/turekj/msc/master/CheatAR/development/server/word-dictionary-importer/src/main/resources/scrabble-polish-words.txt\n",
    "\n",
    "- mal.txt: malay corpus extracted from malay common words dataset on Kaggle: https://www.kaggle.com/datasets/imroze/indonesian-and-malaysian-common-words-list\n",
    "\n",
    "- fra.txt: french corpus extracted from french wordlish on Github: https://github.com/Taknok/French-Wordlist/blob/master/francais.txt\n"
   ]
  },
  {
   "cell_type": "code",
   "execution_count": 1,
   "id": "a4d53d88",
   "metadata": {},
   "outputs": [],
   "source": [
    "# Import packages\n",
    "\n",
    "import numpy as np\n",
    "import random\n",
    "import string\n",
    "import matplotlib.pyplot as plt\n",
    "from collections import defaultdict\n",
    "\n",
    "from sklearn.feature_extraction import DictVectorizer\n",
    "from sklearn import svm \n",
    "from sklearn.metrics import confusion_matrix, ConfusionMatrixDisplay\n",
    "\n",
    "import os"
   ]
  },
  {
   "cell_type": "markdown",
   "id": "cb422573",
   "metadata": {},
   "source": [
    "## Part One: Word Generator"
   ]
  },
  {
   "cell_type": "code",
   "execution_count": 2,
   "id": "c9f9e7d5",
   "metadata": {},
   "outputs": [],
   "source": [
    "# process_word function\n",
    "#  input: word - raw text word\n",
    "#  output: processed word\n",
    "\n",
    "def process_word (word):\n",
    "    \n",
    "    processed = \"\"\n",
    "    \n",
    "    # check if char is punctuation, uppercase, or in a select list of characters that wer giving me trouble\n",
    "    for char in word:\n",
    "        if char not in string.punctuation and char not in [\"”\",\"“\",\"’\",'1','2','3','4','5','6','7','8','9','á','™','—']:\n",
    "            processed += char.lower()\n",
    "            \n",
    "    return \"<\" + processed + \">\""
   ]
  },
  {
   "cell_type": "code",
   "execution_count": 3,
   "id": "bafbb660",
   "metadata": {},
   "outputs": [],
   "source": [
    "# read_file function\n",
    "#  input: file - file name of corpus\n",
    "#  outpt: bigrams_dict - dictionary of all bigram frequencies in the corpus\n",
    "\n",
    "def read_file(file):\n",
    "    lines = [line.strip() for line in open(file)]\n",
    "\n",
    "    bigrams = defaultdict(int)\n",
    "\n",
    "    for line in lines:\n",
    "        for word in line.split(' '):\n",
    "            \n",
    "            # process word\n",
    "            word = process_word(word)\n",
    "\n",
    "            # check size then add bigram to dictionary\n",
    "            if len(word) > 2:\n",
    "                for x in range(len(word)-1):\n",
    "                    bigrams[word[x]+word[x+1]] += 1\n",
    "\n",
    "    # get oercentages\n",
    "    num_bigrams = sum(list(bigrams.values()))\n",
    "    bigrams_dict = {x: bigrams[x] / num_bigrams for x in bigrams}\n",
    "    \n",
    "    return bigrams_dict"
   ]
  },
  {
   "cell_type": "code",
   "execution_count": 4,
   "id": "e32582d4",
   "metadata": {},
   "outputs": [],
   "source": [
    "# let_prop function\n",
    "#  input: letter - given letter, bigrams - bigram dictionary of corpus\n",
    "#  output: let_prop_norm - probabilities of letter following input, given as a dict\n",
    "\n",
    "def let_prop(letter,bigrams):\n",
    "    let_prop_dict = {}\n",
    "    \n",
    "    for x in bigrams:\n",
    "        if x[:len(letter)] == letter:\n",
    "            let_prop_dict[x[1:]] = bigrams[x]\n",
    "    \n",
    "    # normalize\n",
    "    let_sum = sum(list(let_prop_dict.values()))\n",
    "    let_prop_norm = {x: let_prop_dict[x] / let_sum * 100 for x in list(let_prop_dict.keys())}\n",
    "\n",
    "    return let_prop_norm"
   ]
  },
  {
   "cell_type": "code",
   "execution_count": 5,
   "id": "45d86af6",
   "metadata": {},
   "outputs": [],
   "source": [
    "# generate_word function\n",
    "#  input: bigrams - bigram dictionary of corpus, max_lets - maximum number of letters\n",
    "#  output: word - generated word\n",
    "\n",
    "def generate_word(bigrams,max_lets=15):\n",
    "    \n",
    "    vows = \"aeiou\"\n",
    "    \n",
    "    nextt = let_prop(\"<\",bigrams)\n",
    "    \n",
    "    word = \"<\"\n",
    "    \n",
    "    next_let = random.choices(list(nextt.keys()), weights = list(nextt.values()),k=1)[0]\n",
    "    word += next_let\n",
    "    \n",
    "    # loop until stop character or max_lets reached; make sure there is at least one vowel\n",
    "    i = 0\n",
    "    num_vows = 0\n",
    "    while i < max_lets and word[-1] != \">\" or num_vows == 0:\n",
    "        nextt = let_prop(next_let,bigrams)   \n",
    "        \n",
    "        next_let = random.choices(list(nextt.keys()), weights = list(nextt.values()),k=1)[0]\n",
    "        \n",
    "        while next_let == \">\" and num_vows == 0:\n",
    "            next_let = random.choices(list(nextt.keys()), weights = list(nextt.values()),k=1)[0]\n",
    "            #print(next_let)\n",
    "        \n",
    "        if next_let not in vows and next_let != \">\":\n",
    "            if word[-1] in vows or (len(word) > 3 and word[-2] in vows):\n",
    "                word += next_let\n",
    "        \n",
    "        elif next_let in vows:\n",
    "            num_vows += 1\n",
    "            word += next_let\n",
    "            \n",
    "        elif next_let == \">\":\n",
    "            word += next_let\n",
    "        \n",
    "        i += 1\n",
    "    \n",
    "    # add stop character if not present\n",
    "    if word[-1] != \">\":\n",
    "        word += \">\"\n",
    "    \n",
    "    return word"
   ]
  },
  {
   "cell_type": "markdown",
   "id": "f7c65493",
   "metadata": {},
   "source": [
    "## Part Two: Classification"
   ]
  },
  {
   "cell_type": "code",
   "execution_count": 6,
   "id": "5561c9ee",
   "metadata": {},
   "outputs": [],
   "source": [
    "# get_word_list function\n",
    "#  input: the_file - file name\n",
    "#  output: words - list of word in the file\n",
    "\n",
    "\n",
    "def get_word_list (the_file):\n",
    "    lines = [line.strip() for line in open(the_file,errors='ignore')]\n",
    "    words = []\n",
    "    \n",
    "    for line in lines:  \n",
    "        for word in line.split(' '):\n",
    "            words.append(process_word(word)[1:-1])\n",
    "    \n",
    "    random.shuffle(words)\n",
    "    \n",
    "    return words"
   ]
  },
  {
   "cell_type": "code",
   "execution_count": 7,
   "id": "b196d723",
   "metadata": {},
   "outputs": [],
   "source": [
    "# featurizer function:\n",
    "#  input: word \n",
    "#  output: feats - list of features of the given word (length, last 3 letters)\n",
    "\n",
    "def featurizer(word):\n",
    "    feats = [len(word)]\n",
    "    \n",
    "    if len(word) > 0:\n",
    "        feats.append(word[-1])\n",
    "    else:\n",
    "        feats.append(word)\n",
    "        \n",
    "    if len(word) > 1:\n",
    "        feats.append(word[-2:])\n",
    "    else:\n",
    "        feats.append(word)\n",
    "    \n",
    "    return feats"
   ]
  },
  {
   "cell_type": "code",
   "execution_count": 8,
   "id": "1eec3e1f",
   "metadata": {},
   "outputs": [],
   "source": [
    "# get_feats function:\n",
    "#  input: word_list - list of words in a corpus\n",
    "#  output: feats - features of all words in the word_list\n",
    "\n",
    "def get_feats(word_list):\n",
    "    feats = list(set(np.array([featurizer(x) for x in word_list]).flatten()))\n",
    "    return feats"
   ]
  },
  {
   "cell_type": "code",
   "execution_count": 9,
   "id": "50420280",
   "metadata": {},
   "outputs": [],
   "source": [
    "# get_feat function\n",
    "#  input: word - given word, feats - feat list of corpus (from get_feats)\n",
    "#  output: feats_bin - binary representation of each word\n",
    "\n",
    "def get_feat(word, feats):\n",
    "    word_feats = featurizer(word)\n",
    "    feats_bin = [0] * len(feats)\n",
    "\n",
    "    for y in word_feats:\n",
    "        if y in feats:\n",
    "            feats_bin[feats.index(y)] = 1\n",
    "    \n",
    "    return feats_bin"
   ]
  },
  {
   "cell_type": "code",
   "execution_count": 10,
   "id": "d3b2685f",
   "metadata": {},
   "outputs": [],
   "source": [
    "# word_list_to_feat_list function\n",
    "#  input: word_list - word list of a corpus, lang - language of the word list\n",
    "#  output: binar - list of tuples with language label and list of binary features for every word in word list\n",
    "\n",
    "def word_list_to_feat_list(word_list,lang):\n",
    "    \n",
    "    feats = get_feats(word_list)\n",
    "    \n",
    "    binar = [(lang, get_feat(x, feats)) for x in word_list]\n",
    "            \n",
    "    return binar"
   ]
  },
  {
   "cell_type": "code",
   "execution_count": 11,
   "id": "9b8b5302",
   "metadata": {},
   "outputs": [],
   "source": [
    "# feat_list_to_dict function\n",
    "#  input: feats - list of all binary features of a word list, from word_list_to_feat_list()\n",
    "#  output: dictionary of features to be used by vectorizer\n",
    "\n",
    "def feat_list_to_dict(feats):\n",
    "    return {x : feats[x] for x in range(len(feats))}"
   ]
  },
  {
   "cell_type": "code",
   "execution_count": 12,
   "id": "e07ba3ff",
   "metadata": {},
   "outputs": [],
   "source": [
    "# read_files function\n",
    "#  input: none\n",
    "#  output: list of all featurized words in all the folders\n",
    "\n",
    "def read_files():\n",
    "    directory = r\"data\"\n",
    "\n",
    "    # loop through data directory\n",
    "    bin_list = []\n",
    "    for name in os.listdir(directory):\n",
    "    \n",
    "        # checks for hidden folders in macOS - I was having an issue with them\n",
    "        if name[0] != '.':\n",
    "    \n",
    "            direc = directory + \"/\" + name\n",
    "\n",
    "            # append word feat representations to bin_list\n",
    "            bin_list.append(word_list_to_feat_list(get_word_list(direc),name[:3]))\n",
    "     \n",
    "    # flatten bin_list into one list\n",
    "    all_lists = []\n",
    "    for x in bin_list:\n",
    "        for y in x:\n",
    "            all_lists.append(y)\n",
    "        \n",
    "    return all_lists"
   ]
  },
  {
   "cell_type": "code",
   "execution_count": null,
   "id": "bb0f3f48",
   "metadata": {
    "scrolled": true
   },
   "outputs": [],
   "source": [
    "# read files\n",
    "train = read_files()"
   ]
  },
  {
   "cell_type": "code",
   "execution_count": null,
   "id": "0f7468af",
   "metadata": {},
   "outputs": [],
   "source": [
    "# get classes (languages) and feature dict\n",
    "classes,feat_dict_list = zip(*[(x[0],feat_list_to_dict(x[1])) for x in train])"
   ]
  },
  {
   "cell_type": "code",
   "execution_count": null,
   "id": "0f1cbb10",
   "metadata": {},
   "outputs": [],
   "source": [
    "# train classifier\n",
    "\n",
    "vectorizer = DictVectorizer(sparse = True)\n",
    "X = vectorizer.fit_transform(feat_dict_list)\n",
    "\n",
    "clf = svm.LinearSVC()\n",
    "clf.fit(X,classes)"
   ]
  },
  {
   "cell_type": "code",
   "execution_count": 27,
   "id": "cd2ee903",
   "metadata": {},
   "outputs": [],
   "source": [
    "# fscore function\n",
    "#  input: tp - true positives, fp - false positives, fn - false negatives\n",
    "#  output: fscore\n",
    "\n",
    "def fscore (tp,fp,fn):\n",
    "    return tp / (tp + 0.5 * (fp + fn))"
   ]
  },
  {
   "cell_type": "code",
   "execution_count": 40,
   "id": "7b6580ba",
   "metadata": {
    "scrolled": true
   },
   "outputs": [],
   "source": [
    "# test_langs function\n",
    "#  input: langs list of languages to test\n",
    "#  output: shows confusion matrix, prints f score\n",
    "\n",
    "def test_langs(langs):\n",
    "    \n",
    "    test_l = []\n",
    "    for lang in langs:\n",
    "    \n",
    "        # get all bigrams of each language\n",
    "        file = \"data/\" + lang + \".txt\"\n",
    "        bigrams = read_file(file)\n",
    "\n",
    "        # generate 1000 words of using the bigram dict\n",
    "        test_list = [generate_word(bigrams,10) for x in range(5000)]\n",
    "        \n",
    "        # transfer word list to features\n",
    "        test = word_list_to_feat_list(test_list,lang)\n",
    "        \n",
    "        test_l.append(test)\n",
    "\n",
    "    # flatten the list\n",
    "    test_l_flat = []\n",
    "    for x in test_l:\n",
    "        test_l_flat += x\n",
    "        \n",
    "    # create dictionary from the list of all features\n",
    "    test_feat_dict_list = [feat_list_to_dict(x[1]) for x in test_l_flat]\n",
    "    \n",
    "    # use model to predict labels\n",
    "    guesses = clf.predict(vectorizer.transform(test_feat_dict_list))\n",
    "    correct = [x[0] for x in test_l_flat]\n",
    "    \n",
    "    cm = confusion_matrix(correct, guesses, labels=langs)\n",
    "    disp = ConfusionMatrixDisplay(confusion_matrix=cm,display_labels=langs)\n",
    "    disp.plot()\n",
    "    plt.show()\n",
    "    \n",
    "    # find true postives, false positives, and false negatives for fscore\n",
    "    tp = 0\n",
    "    fp = 0\n",
    "    fn = 0\n",
    "    for gu, co in zip(guesses,correct):\n",
    "        if gu == co:\n",
    "            tp += 1\n",
    "        elif gu != lang:\n",
    "            fn += 1\n",
    "        elif co != lang:\n",
    "            fp += 1\n",
    "\n",
    "    print(\"F Score for generated words of \" + \",\".join(langs) + \" : \" + str(fscore(tp,fp,fn)))\n",
    "    print()"
   ]
  },
  {
   "cell_type": "code",
   "execution_count": 41,
   "id": "1594b9ef",
   "metadata": {},
   "outputs": [
    {
     "data": {
      "image/png": "[encoded data removed]",
      "text/plain": [
       "<Figure size 640x480 with 2 Axes>"
      ]
     },
     "metadata": {},
     "output_type": "display_data"
    },
    {
     "name": "stdout",
     "output_type": "stream",
     "text": [
      "F Score for generated words of mal,fra : 0.7785513619152314\n",
      "\n"
     ]
    }
   ],
   "source": [
    "test_langs([\"mal\",\"fra\"])"
   ]
  },
  {
   "cell_type": "markdown",
   "id": "dbc3429b",
   "metadata": {},
   "source": [
    "## Final Thoughts\n",
    "\n",
    "Unfortunately, I did not have the processing power to run any more than two languages at a time. My kernel kept dying otherwise.\n",
    "\n",
    "The two languages I am submitting are from my French and Malay corpuses. I chose these because, while both languages typically use the roman alphabet, they are pretty distinct phonetically. This resulted in the best f scores. \n",
    "\n",
    "Even with these two languages, the f score was not very high (the max I saw it get was around 81%). With more time, I could improve the word generator by adding more syllabic features, as well as potentially implementing an LSTM model.\n",
    "\n",
    "The f scores were high enough to warrant some success, however."
   ]
  },
  {
   "cell_type": "code",
   "execution_count": null,
   "id": "7da3c671",
   "metadata": {},
   "outputs": [],
   "source": []
  }
 ],
 "metadata": {
  "kernelspec": {
   "display_name": "Python 3 (ipykernel)",
   "language": "python",
   "name": "python3"
  },
  "language_info": {
   "codemirror_mode": {
    "name": "ipython",
    "version": 3
   },
   "file_extension": ".py",
   "mimetype": "text/x-python",
   "name": "python",
   "nbconvert_exporter": "python",
   "pygments_lexer": "ipython3",
   "version": "3.11.4"
  }
 },
 "nbformat": 4,
 "nbformat_minor": 5
}
